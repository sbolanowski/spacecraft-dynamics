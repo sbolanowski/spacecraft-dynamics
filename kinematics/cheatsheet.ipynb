{
 "cells": [
  {
   "cell_type": "markdown",
   "id": "fc834541",
   "metadata": {},
   "source": [
    "# Kinematics & Dynamics Cheatsheet\n",
    "\n",
    "This cheatsheet provides quick references to key kinematic and dynamics equations and concepts commonly used in engineering. "
   ]
  },
  {
   "cell_type": "markdown",
   "id": "13527647",
   "metadata": {},
   "source": [
    "---"
   ]
  },
  {
   "cell_type": "code",
   "execution_count": null,
   "id": "defab355",
   "metadata": {},
   "outputs": [],
   "source": [
    "!pip install numpy sympy matplotlib\n",
    "\n",
    "import math\n",
    "import numpy as np\n",
    "import sympy as sm\n",
    "import matplotlib.pyplot as plt"
   ]
  },
  {
   "cell_type": "markdown",
   "id": "f69d8410",
   "metadata": {},
   "source": [
    "---"
   ]
  },
  {
   "cell_type": "code",
   "execution_count": 5,
   "id": "3a5ba1d5",
   "metadata": {},
   "outputs": [],
   "source": [
    "def final_velocity(v_i, a, t):\n",
    "    \"\"\"\n",
    "    Calculate the final velocity (v_f) using the equation v_f = v_i + a * t\n",
    "    :param v_i: Initial velocity (m/s)\n",
    "    :param a: Acceleration (m/s^2)\n",
    "    :param t: Time (seconds)\n",
    "    :return: Final velocity (m/s)\n",
    "    \"\"\"\n",
    "    v_f = v_i + a * t\n",
    "    return v_f"
   ]
  },
  {
   "cell_type": "code",
   "execution_count": 4,
   "id": "0dea1e7b",
   "metadata": {},
   "outputs": [],
   "source": [
    "def position(v_i, a, t, x_0=0):\n",
    "    \"\"\"\n",
    "    Calculate the position (x) using the equation x = x_0 + v_i * t + 0.5 * a * t^2\n",
    "    :param v_i: Initial velocity (m/s)\n",
    "    :param a: Acceleration (m/s^2)\n",
    "    :param t: Time (seconds)\n",
    "    :param x_0: Initial position (m)\n",
    "    :return: Final position (m)\n",
    "    \"\"\"\n",
    "    x = x_0 + v_i * t + 0.5 * a * t**2\n",
    "    return x"
   ]
  },
  {
   "cell_type": "code",
   "execution_count": 6,
   "id": "59002aaa",
   "metadata": {},
   "outputs": [],
   "source": [
    "def average_acceleration(v_i, v_f, t):\n",
    "    \"\"\"\n",
    "    Calculate the average acceleration (a) using the equation a = (v_f - v_i) / t\n",
    "    :param v_i: Initial velocity (m/s)\n",
    "    :param v_f: Final velocity (m/s)\n",
    "    :param t: Time (seconds)\n",
    "    :return: Average acceleration (m/s^2)\n",
    "    \"\"\"\n",
    "    a = (v_f - v_i) / t\n",
    "    return a"
   ]
  },
  {
   "cell_type": "code",
   "execution_count": 10,
   "id": "f4a9ace2",
   "metadata": {},
   "outputs": [],
   "source": [
    "def velocity_free_fall(g, h):\n",
    "    \"\"\"\n",
    "    Calculate the final velocity (v_f) of an object in free fall using the equation v_f = sqrt(2 * g * h)\n",
    "    :param g: Gravitational acceleration (m/s^2)\n",
    "    :param h: Height (m)\n",
    "    :return: Final velocity (m/s)\n",
    "    \"\"\"\n",
    "    v_f = math.sqrt(2 * g * h)\n",
    "    return v_f"
   ]
  },
  {
   "cell_type": "code",
   "execution_count": 11,
   "id": "fc5fb525",
   "metadata": {},
   "outputs": [],
   "source": [
    "def time_of_fall(g, h):\n",
    "    \"\"\"\n",
    "    Calculate the time (t) for an object to fall from a height (h) using the equation t = sqrt(2 * h / g)\n",
    "    :param g: Gravitational acceleration (m/s^2)\n",
    "    :param h: Height (m)\n",
    "    :return: Time of fall (seconds)\n",
    "    \"\"\"\n",
    "    t = math.sqrt(2 * h / g)\n",
    "    return t"
   ]
  },
  {
   "cell_type": "code",
   "execution_count": 12,
   "id": "6c776bf1",
   "metadata": {},
   "outputs": [],
   "source": [
    "def tangential_velocity(r, omega):\n",
    "    \"\"\"\n",
    "    Calculate the tangential velocity (v) using the equation v = r * omega\n",
    "    :param r: Radius of the circular path (m)\n",
    "    :param omega: Angular velocity (rad/s)\n",
    "    :return: Tangential velocity (m/s)\n",
    "    \"\"\"\n",
    "    v = r * omega\n",
    "    return v"
   ]
  },
  {
   "cell_type": "code",
   "execution_count": 13,
   "id": "6ca5c44e",
   "metadata": {},
   "outputs": [],
   "source": [
    "def centripetal_acceleration(v, r):\n",
    "    \"\"\"\n",
    "    Calculate the centripetal acceleration (a_c) using the equation a_c = v^2 / r\n",
    "    :param v: Tangential velocity (m/s)\n",
    "    :param r: Radius of the circular path (m)\n",
    "    :return: Centripetal acceleration (m/s^2)\n",
    "    \"\"\"\n",
    "    a_c = v**2 / r\n",
    "    return a_c"
   ]
  },
  {
   "cell_type": "code",
   "execution_count": 14,
   "id": "ec81ff36",
   "metadata": {},
   "outputs": [],
   "source": [
    "def work_done(F, d, theta):\n",
    "    \"\"\"\n",
    "    Calculate the work done (W) using the equation W = F * d * cos(theta)\n",
    "    :param F: Force applied (N)\n",
    "    :param d: Distance traveled (m)\n",
    "    :param theta: Angle between the force and the direction of motion (radians)\n",
    "    :return: Work done (Joules)\n",
    "    \"\"\"\n",
    "    W = F * d * math.cos(theta)\n",
    "    return W"
   ]
  },
  {
   "cell_type": "code",
   "execution_count": 15,
   "id": "a27c60c4",
   "metadata": {},
   "outputs": [],
   "source": [
    "def kinetic_energy(m, v):\n",
    "    \"\"\"\n",
    "    Calculate the kinetic energy (K) using the equation K = 0.5 * m * v^2\n",
    "    :param m: Mass of the object (kg)\n",
    "    :param v: Velocity of the object (m/s)\n",
    "    :return: Kinetic energy (Joules)\n",
    "    \"\"\"\n",
    "    K = 0.5 * m * v**2\n",
    "    return K"
   ]
  },
  {
   "cell_type": "code",
   "execution_count": null,
   "id": "685a9180",
   "metadata": {},
   "outputs": [],
   "source": [
    "def potential_energy(m, g, h):\n",
    "    \"\"\"\n",
    "    Calculate the gravitational potential energy (U) using the equation U = m * g * h\n",
    "    :param m: Mass of the object (kg)\n",
    "    :param g: Gravitational acceleration (m/s^2)\n",
    "    :param h: Height (m)\n",
    "    :return: Gravitational potential energy (Joules)\n",
    "    \"\"\"\n",
    "    U = m * g * h\n",
    "    return U"
   ]
  },
  {
   "cell_type": "code",
   "execution_count": null,
   "id": "510fbd93",
   "metadata": {},
   "outputs": [],
   "source": [
    "def total_energy(K, U):\n",
    "    \"\"\"\n",
    "    Calculate the total energy (E_total) using E_total = K + U\n",
    "    :param K: Kinetic energy (Joules)\n",
    "    :param U: Potential energy (Joules)\n",
    "    :return: Total energy (Joules)\n",
    "    \"\"\"\n",
    "    E_total = K + U\n",
    "    return E_total"
   ]
  },
  {
   "cell_type": "code",
   "execution_count": null,
   "id": "805f1529",
   "metadata": {},
   "outputs": [],
   "source": [
    "def torque(r, F, theta):\n",
    "    \"\"\"\n",
    "    Calculate the torque (τ) using the equation τ = r * F * sin(theta)\n",
    "    :param r: Distance from the pivot point (m)\n",
    "    :param F: Force applied (N)\n",
    "    :param theta: Angle between the force and the lever arm (radians)\n",
    "    :return: Torque (N·m)\n",
    "    \"\"\"\n",
    "    τ = r * F * math.sin(theta)\n",
    "    return τ"
   ]
  },
  {
   "cell_type": "code",
   "execution_count": 16,
   "id": "82757022",
   "metadata": {},
   "outputs": [],
   "source": [
    "def moment_of_inertia_disk(m, r):\n",
    "    \"\"\"\n",
    "    Calculate the moment of inertia (I) for a solid disk using I = 0.5 * m * r^2\n",
    "    :param m: Mass of the object (kg)\n",
    "    :param r: Radius of the disk (m)\n",
    "    :return: Moment of inertia (kg·m²)\n",
    "    \"\"\"\n",
    "    I = 0.5 * m * r**2\n",
    "    return I"
   ]
  },
  {
   "cell_type": "code",
   "execution_count": null,
   "id": "86639e6f",
   "metadata": {},
   "outputs": [],
   "source": [
    "def impulse(F, t):\n",
    "    \"\"\"\n",
    "    Calculate the impulse (J) using J = F * t\n",
    "    :param F: Force applied (N)\n",
    "    :param t: Time duration of the force applied (seconds)\n",
    "    :return: Impulse (Ns)\n",
    "    \"\"\"\n",
    "    J = F * t\n",
    "    return J"
   ]
  },
  {
   "cell_type": "code",
   "execution_count": null,
   "id": "73090da4",
   "metadata": {},
   "outputs": [],
   "source": [
    "def power(F, v):\n",
    "    \"\"\"\n",
    "    Calculate the power (P) using the equation P = F * v\n",
    "    :param F: Force applied (N)\n",
    "    :param v: Velocity of the object (m/s)\n",
    "    :return: Power (Watts)\n",
    "    \"\"\"\n",
    "    P = F * v\n",
    "    return P"
   ]
  },
  {
   "cell_type": "code",
   "execution_count": null,
   "id": "e23f1926",
   "metadata": {},
   "outputs": [],
   "source": [
    "def angular_acceleration(tau, I):\n",
    "    \"\"\"\n",
    "    Calculate the angular acceleration (α) using the equation τ = I * α\n",
    "    :param tau: Torque (N·m)\n",
    "    :param I: Moment of inertia (kg·m²)\n",
    "    :return: Angular acceleration (rad/s²)\n",
    "    \"\"\"\n",
    "    α = tau / I\n",
    "    return α"
   ]
  },
  {
   "cell_type": "code",
   "execution_count": null,
   "id": "28eff2d1",
   "metadata": {},
   "outputs": [],
   "source": [
    "def drag_force(rho, Cd, A, v):\n",
    "    \"\"\"\n",
    "    Calculate the drag force (F_d) using the equation F_d = 0.5 * rho * C_d * A * v^2\n",
    "    :param rho: Air density (kg/m³)\n",
    "    :param Cd: Drag coefficient (dimensionless)\n",
    "    :param A: Frontal area of the object (m²)\n",
    "    :param v: Velocity relative to the air (m/s)\n",
    "    :return: Drag force (N)\n",
    "    \"\"\"\n",
    "    F_d = 0.5 * rho * Cd * A * v**2\n",
    "    return F_d"
   ]
  },
  {
   "cell_type": "code",
   "execution_count": null,
   "id": "3101ce23",
   "metadata": {},
   "outputs": [],
   "source": [
    "def force_spring(k, x):\n",
    "    \"\"\"\n",
    "    Calculate the force (F) exerted by a spring using F = -k * x\n",
    "    :param k: Spring constant (N/m)\n",
    "    :param x: Deformation or displacement of the spring (m)\n",
    "    :return: Force exerted by the spring (N)\n",
    "    \"\"\"\n",
    "    F = -k * x\n",
    "    return F"
   ]
  },
  {
   "cell_type": "code",
   "execution_count": null,
   "id": "3dc1a077",
   "metadata": {},
   "outputs": [],
   "source": [
    "def force(m, a):\n",
    "    \"\"\"\n",
    "    Calculate the force (F) using F = m * a\n",
    "    :param m: Mass of the object (kg)\n",
    "    :param a: Acceleration of the object (m/s^2)\n",
    "    :return: Force (N)\n",
    "    \"\"\"\n",
    "    F = m * a\n",
    "    return F"
   ]
  },
  {
   "cell_type": "code",
   "execution_count": null,
   "id": "812f9ee6",
   "metadata": {},
   "outputs": [],
   "source": [
    "def gravitational_force(G, m1, m2, r):\n",
    "    \"\"\"\n",
    "    Calculate the gravitational force (F) using the equation F = G * m1 * m2 / r^2\n",
    "    :param G: Gravitational constant (6.67430 × 10^-11 m³/(kg·s²))\n",
    "    :param m1: Mass of the first object (kg)\n",
    "    :param m2: Mass of the second object (kg)\n",
    "    :param r: Distance between the two objects (m)\n",
    "    :return: Gravitational force (N)\n",
    "    \"\"\"\n",
    "    F = G * m1 * m2 / r**2\n",
    "    return F"
   ]
  },
  {
   "cell_type": "code",
   "execution_count": null,
   "id": "7528e01c",
   "metadata": {},
   "outputs": [],
   "source": [
    "def position_under_force(v_i, a, t, x_0=0):\n",
    "    \"\"\"\n",
    "    Calculate the position (x) using the equation x = x_0 + v_i * t + 0.5 * a * t^2\n",
    "    :param v_i: Initial velocity (m/s)\n",
    "    :param a: Acceleration (m/s²)\n",
    "    :param t: Time (s)\n",
    "    :param x_0: Initial position (m)\n",
    "    :return: Final position (m)\n",
    "    \"\"\"\n",
    "    x = x_0 + v_i * t + 0.5 * a * t**2\n",
    "    return x"
   ]
  },
  {
   "cell_type": "code",
   "execution_count": null,
   "id": "3ce6f852",
   "metadata": {},
   "outputs": [],
   "source": [
    "def final_velocity_free_fall(v_i, g, t):\n",
    "    \"\"\"\n",
    "    Calculate the final velocity (v_f) during free fall using v_f = v_i + g * t\n",
    "    :param v_i: Initial velocity (m/s)\n",
    "    :param g: Gravitational acceleration (m/s^2)\n",
    "    :param t: Time of fall (seconds)\n",
    "    :return: Final velocity (m/s)\n",
    "    \"\"\"\n",
    "    v_f = v_i + g * t\n",
    "    return v_f"
   ]
  },
  {
   "cell_type": "code",
   "execution_count": null,
   "id": "467e898a",
   "metadata": {},
   "outputs": [],
   "source": [
    "def position_free_fall(v_i, g, t, y_0=0):\n",
    "    \"\"\"\n",
    "    Calculate the position (y) during free fall using y = y_0 + v_i * t + 0.5 * g * t^2\n",
    "    :param v_i: Initial velocity (m/s)\n",
    "    :param g: Gravitational acceleration (m/s^2)\n",
    "    :param t: Time of fall (seconds)\n",
    "    :param y_0: Initial position (m)\n",
    "    :return: Position (m)\n",
    "    \"\"\"\n",
    "    y = y_0 + v_i * t + 0.5 * g * t**2\n",
    "    return y"
   ]
  },
  {
   "cell_type": "code",
   "execution_count": null,
   "id": "8b500bf0",
   "metadata": {},
   "outputs": [],
   "source": [
    "def horizontal_position(v_i, theta, t):\n",
    "    \"\"\"\n",
    "    Calculate the horizontal position (x) in projectile motion using x = x_0 + v_i * cos(theta) * t\n",
    "    :param v_i: Initial velocity (m/s)\n",
    "    :param theta: Launch angle (radians)\n",
    "    :param t: Time (seconds)\n",
    "    :return: Horizontal position (m)\n",
    "    \"\"\"\n",
    "    x = v_i * math.cos(theta) * t\n",
    "    return x"
   ]
  },
  {
   "cell_type": "code",
   "execution_count": null,
   "id": "f2f91dce",
   "metadata": {},
   "outputs": [],
   "source": [
    "def vertical_position(v_i, theta, g, t, y_0=0):\n",
    "    \"\"\"\n",
    "    Calculate the vertical position (y) in projectile motion using y = y_0 + v_i * sin(theta) * t - 0.5 * g * t^2\n",
    "    :param v_i: Initial velocity (m/s)\n",
    "    :param theta: Launch angle (radians)\n",
    "    :param g: Gravitational acceleration (m/s^2)\n",
    "    :param t: Time (seconds)\n",
    "    :param y_0: Initial height (m)\n",
    "    :return: Vertical position (m)\n",
    "    \"\"\"\n",
    "    y = y_0 + v_i * math.sin(theta) * t - 0.5 * g * t**2\n",
    "    return y"
   ]
  },
  {
   "cell_type": "code",
   "execution_count": null,
   "id": "35f0508c",
   "metadata": {},
   "outputs": [],
   "source": [
    "def range_of_projectile(v_i, theta, g):\n",
    "    \"\"\"\n",
    "    Calculate the range (R) of a projectile using the equation R = v_i^2 * sin(2*theta) / g\n",
    "    :param v_i: Initial velocity (m/s)\n",
    "    :param theta: Launch angle (radians)\n",
    "    :param g: Gravitational acceleration (m/s^2)\n",
    "    :return: Range (m)\n",
    "    \"\"\"\n",
    "    R = (v_i**2 * math.sin(2 * theta)) / g\n",
    "    return R"
   ]
  },
  {
   "cell_type": "code",
   "execution_count": null,
   "id": "45515fd9",
   "metadata": {},
   "outputs": [],
   "source": [
    "def flight_time(v_i, theta, g):\n",
    "    \"\"\"\n",
    "    Calculate the flight time (t) of a projectile using t = 2 * v_i * sin(theta) / g\n",
    "    :param v_i: Initial velocity (m/s)\n",
    "    :param theta: Launch angle (radians)\n",
    "    :param g: Gravitational acceleration (m/s^2)\n",
    "    :return: Time of flight (seconds)\n",
    "    \"\"\"\n",
    "    t = 2 * v_i * math.sin(theta) / g\n",
    "    return t"
   ]
  },
  {
   "cell_type": "code",
   "execution_count": null,
   "id": "abb220a9",
   "metadata": {},
   "outputs": [],
   "source": [
    "def max_height(v_i, theta, g):\n",
    "    \"\"\"\n",
    "    Calculate the maximum height (h_max) of a projectile using h_max = (v_i^2 * sin^2(theta)) / (2 * g)\n",
    "    :param v_i: Initial velocity (m/s)\n",
    "    :param theta: Launch angle (radians)\n",
    "    :param g: Gravitational acceleration (m/s^2)\n",
    "    :return: Maximum height (m)\n",
    "    \"\"\"\n",
    "    h_max = (v_i**2 * math.sin(theta)**2) / (2 * g)\n",
    "    return h_max"
   ]
  },
  {
   "cell_type": "code",
   "execution_count": null,
   "id": "bd8b418d",
   "metadata": {},
   "outputs": [],
   "source": [
    "def final_velocity_from_height(g, h):\n",
    "    \"\"\"\n",
    "    Calculate the final velocity (v_f) of an object falling from height h using v_f = sqrt(2 * g * h)\n",
    "    :param g: Gravitational acceleration (m/s^2)\n",
    "    :param h: Height (m)\n",
    "    :return: Final velocity (m/s)\n",
    "    \"\"\"\n",
    "    v_f = math.sqrt(2 * g * h)\n",
    "    return v_f"
   ]
  },
  {
   "cell_type": "code",
   "execution_count": null,
   "id": "33a5eec1",
   "metadata": {},
   "outputs": [],
   "source": [
    "def fall_time_from_height(g, h):\n",
    "    \"\"\"\n",
    "    Calculate the time (t) for an object to fall from height h using t = sqrt(2 * h / g)\n",
    "    :param g: Gravitational acceleration (m/s^2)\n",
    "    :param h: Height (m)\n",
    "    :return: Time of fall (seconds)\n",
    "    \"\"\"\n",
    "    t = math.sqrt(2 * h / g)\n",
    "    return t"
   ]
  },
  {
   "cell_type": "code",
   "execution_count": null,
   "id": "5567290c",
   "metadata": {},
   "outputs": [],
   "source": [
    "def terminal_velocity(m, g, rho, A, C_d):\n",
    "    \"\"\"\n",
    "    Calculate the terminal velocity (v_t) using v_t = sqrt((2 * m * g) / (rho * A * C_d))\n",
    "    :param m: Mass of the object (kg)\n",
    "    :param g: Gravitational acceleration (m/s^2)\n",
    "    :param rho: Air density (kg/m^3)\n",
    "    :param A: Cross-sectional area of the object (m^2)\n",
    "    :param C_d: Drag coefficient (dimensionless)\n",
    "    :return: Terminal velocity (m/s)\n",
    "    \"\"\"\n",
    "    v_t = math.sqrt((2 * m * g) / (rho * A * C_d))\n",
    "    return v_t"
   ]
  },
  {
   "cell_type": "code",
   "execution_count": null,
   "id": "b3f28b03",
   "metadata": {},
   "outputs": [],
   "source": [
    "def tangential_velocity(r, omega):\n",
    "    \"\"\"\n",
    "    Calculate the tangential velocity (v) in circular motion using v = r * omega\n",
    "    :param r: Radius of the circular path (m)\n",
    "    :param omega: Angular velocity (rad/s)\n",
    "    :return: Tangential velocity (m/s)\n",
    "    \"\"\"\n",
    "    v = r * omega\n",
    "    return v"
   ]
  },
  {
   "cell_type": "code",
   "execution_count": null,
   "id": "7aad6dcd",
   "metadata": {},
   "outputs": [],
   "source": [
    "def centripetal_acceleration(v, r):\n",
    "    \"\"\"\n",
    "    Calculate the centripetal acceleration (a_c) using a_c = v^2 / r\n",
    "    :param v: Tangential velocity (m/s)\n",
    "    :param r: Radius of the circular path (m)\n",
    "    :return: Centripetal acceleration (m/s^2)\n",
    "    \"\"\"\n",
    "    a_c = v**2 / r\n",
    "    return a_c"
   ]
  },
  {
   "cell_type": "markdown",
   "id": "24691176",
   "metadata": {},
   "source": [
    "---"
   ]
  },
  {
   "cell_type": "markdown",
   "id": "1247f7a0",
   "metadata": {},
   "source": [
    "# Rocketry Cheatsheet\n",
    "\n",
    "This cheatsheet provides quick references to key equations and concepts commonly used in rocketry and propulsion. It covers topics such as rocket propulsion, orbital mechanics, and Kepler's laws, among other essential aspects for understanding rocket dynamics and space travel."
   ]
  },
  {
   "cell_type": "markdown",
   "id": "7d029e32",
   "metadata": {},
   "source": [
    "---"
   ]
  },
  {
   "cell_type": "markdown",
   "id": "5be0c3de",
   "metadata": {},
   "source": [
    "## Rocket Propulsion"
   ]
  },
  {
   "cell_type": "code",
   "execution_count": null,
   "id": "417e50d8",
   "metadata": {},
   "outputs": [],
   "source": [
    "def delta_v(v_e, m_0, m_f):\n",
    "    \"\"\"\n",
    "    Calculate the change in velocity (Delta_v) using the Tsiolkovsky's rocket equation\n",
    "    :param v_e: Effective exhaust velocity (m/s)\n",
    "    :param m_0: Initial mass of the rocket (kg)\n",
    "    :param m_f: Final mass of the rocket (kg)\n",
    "    :return: Change in velocity (m/s)\n",
    "    \"\"\"\n",
    "    return v_e * math.log(m_0 / m_f)"
   ]
  },
  {
   "cell_type": "code",
   "execution_count": null,
   "id": "5445ce6b",
   "metadata": {},
   "outputs": [],
   "source": [
    "def impulse(T, t):\n",
    "    \"\"\"\n",
    "    Calculate the impulse (I) generated by the rocket motor using I = T * t\n",
    "    :param T: Thrust (N)\n",
    "    :param t: Time duration of thrust (s)\n",
    "    :return: Impulse (Ns)\n",
    "    \"\"\"\n",
    "    return T * t"
   ]
  },
  {
   "cell_type": "code",
   "execution_count": null,
   "id": "74a01770",
   "metadata": {},
   "outputs": [],
   "source": [
    "def thrust(m_dot, v_e):\n",
    "    \"\"\"\n",
    "    Calculate the thrust (T) generated by the rocket engine using T = m_dot * v_e\n",
    "    :param m_dot: Mass flow rate of the exhaust gases (kg/s)\n",
    "    :param v_e: Exhaust velocity (m/s)\n",
    "    :return: Thrust (N)\n",
    "    \"\"\"\n",
    "    return m_dot * v_e"
   ]
  },
  {
   "cell_type": "code",
   "execution_count": null,
   "id": "c3dc6c1b",
   "metadata": {},
   "outputs": [],
   "source": [
    "def escape_velocity(G, M, r):\n",
    "    \"\"\"\n",
    "    Calculate the escape velocity (v_e) using v_e = sqrt(2 * G * M / r)\n",
    "    :param G: Gravitational constant (6.67430e-11 m^3/kg/s^2)\n",
    "    :param M: Mass of the central body (kg)\n",
    "    :param r: Distance from the center of the central body (m)\n",
    "    :return: Escape velocity (m/s)\n",
    "    \"\"\"\n",
    "    return math.sqrt(2 * G * M / r)"
   ]
  },
  {
   "cell_type": "markdown",
   "id": "482873d2",
   "metadata": {},
   "source": [
    "---"
   ]
  },
  {
   "cell_type": "markdown",
   "id": "44b23fc0",
   "metadata": {},
   "source": [
    "## Kepler's Orbital Laws"
   ]
  },
  {
   "cell_type": "code",
   "execution_count": null,
   "id": "04166a64",
   "metadata": {},
   "outputs": [],
   "source": [
    "def area_swept(r, v):\n",
    "    \"\"\"\n",
    "    Calculate the area swept by the orbiting object in a given time period using area = r * v\n",
    "    :param r: Distance from the center of the orbit (m)\n",
    "    :param v: Orbital velocity (m/s)\n",
    "    :return: Area swept (m²)\n",
    "    \"\"\"\n",
    "    return r * v"
   ]
  },
  {
   "cell_type": "code",
   "execution_count": null,
   "id": "6a13f48d",
   "metadata": {},
   "outputs": [],
   "source": [
    "def orbital_velocity(G, M, r):\n",
    "    \"\"\"\n",
    "    Calculate the orbital velocity (v) using v = sqrt(G * M / r)\n",
    "    :param G: Gravitational constant (6.67430e-11 m^3/kg/s^2)\n",
    "    :param M: Mass of the central body (kg)\n",
    "    :param r: Orbital radius (m)\n",
    "    :return: Orbital velocity (m/s)\n",
    "    \"\"\"\n",
    "    return math.sqrt(G * M / r)"
   ]
  },
  {
   "cell_type": "code",
   "execution_count": null,
   "id": "1a3ab8dc",
   "metadata": {},
   "outputs": [],
   "source": [
    "def orbital_period(G, M, r):\n",
    "    \"\"\"\n",
    "    Calculate the orbital period (T) using Kepler's Third Law: T^2 = (4 * pi^2 * r^3) / (G * M)\n",
    "    :param G: Gravitational constant (6.67430e-11 m^3/kg/s^2)\n",
    "    :param M: Mass of the central body (kg)\n",
    "    :param r: Orbital radius (m)\n",
    "    :return: Orbital period (seconds)\n",
    "    \"\"\"\n",
    "    return math.sqrt((4 * math.pi**2 * r**3) / (G * M))"
   ]
  },
  {
   "cell_type": "code",
   "execution_count": 10,
   "id": "4fd9dfa4",
   "metadata": {},
   "outputs": [
    {
     "data": {
      "image/png": "[encoded data removed]",
      "text/plain": [
       "<Figure size 1000x600 with 1 Axes>"
      ]
     },
     "metadata": {},
     "output_type": "display_data"
    }
   ],
   "source": [
    "# Constants\n",
    "G = 6.67430e-11  # Gravitational constant (m^3 kg^-1 s^-2)\n",
    "M = 1.989e30  # Mass of the Sun (kg)\n",
    "AU = 1.496e11  # Astronomical Unit (m)\n",
    "\n",
    "# Planet distances in AU (mean distance from Sun)\n",
    "planet_distances_au = [0.39, 0.72, 1.00, 1.52, 5.20, 9.58, 19.18, 30.07, 39.48]  # Mercury, Venus, Earth, Mars, Jupiter, Saturn, Uranus, Neptune, Pluto\n",
    "\n",
    "# Calculate orbital periods using Kepler's third law\n",
    "# T = 2 * pi * sqrt(r^3 / (G * M))\n",
    "planet_distances_m = np.array(planet_distances_au) * AU\n",
    "orbital_periods_s = 2 * np.pi * np.sqrt(planet_distances_m**3 / (G * M))\n",
    "\n",
    "# Convert orbital periods to years (1 year = 365.25 days)\n",
    "orbital_periods_years = orbital_periods_s / (60 * 60 * 24 * 365.25)\n",
    "\n",
    "plt.figure(figsize=(10, 6))\n",
    "plt.plot(planet_distances_au, orbital_periods_years, marker='o', linestyle='-', color='b', label='Orbital Period')\n",
    "plt.title('Orbital Period vs. Orbital Distance (Kepler\\'s 3rd Law)')\n",
    "plt.xlabel('Orbital Distance (AU)')\n",
    "plt.ylabel('Orbital Period (Years)')\n",
    "plt.grid(True)\n",
    "plt.xticks(np.arange(0, 45, 5))\n",
    "plt.yticks(np.arange(0, 250, 20))\n",
    "plt.legend()\n",
    "plt.show()"
   ]
  }
 ],
 "metadata": {
  "kernelspec": {
   "display_name": ".venv",
   "language": "python",
   "name": "python3"
  },
  "language_info": {
   "codemirror_mode": {
    "name": "ipython",
    "version": 3
   },
   "file_extension": ".py",
   "mimetype": "text/x-python",
   "name": "python",
   "nbconvert_exporter": "python",
   "pygments_lexer": "ipython3",
   "version": "3.13.3"
  }
 },
 "nbformat": 4,
 "nbformat_minor": 5
}
